{
  "cells": [
    {
      "cell_type": "markdown",
      "metadata": {
        "id": "view-in-github",
        "colab_type": "text"
      },
      "source": [
        "<a href=\"https://colab.research.google.com/github/chenyu313/TensorFlow-note/blob/main/1_%E4%BD%BF%E7%94%A8RNN%E7%94%9F%E6%88%90%E6%96%87%E6%9C%AC.ipynb\" target=\"_parent\"><img src=\"https://colab.research.google.com/assets/colab-badge.svg\" alt=\"Open In Colab\"/></a>"
      ]
    },
    {
      "cell_type": "markdown",
      "metadata": {
        "id": "lFeOfkgKKnvK"
      },
      "source": [
        "## Text generation with an RNN\n",
        "将使用Andrej Karpathy的《循环神经网络的不可思议的有效性》中的莎士比亚（Shakespeare）作品数据集。给定来自该数据的字符序列(“Shakespear”)，训练一个模型来预测序列中的下一个字符(“e”)。通过反复调用模型可以生成更长的文本序列。\n",
        "\n",
        "虽然有些句子合乎语法，但大多数都没有意义。模型没有学习单词的意思，但是考虑:\n",
        "* 该模型是基于字符的。当训练开始时，模型不知道如何拼写英语单词，甚至不知道单词是文本的一个单位。\n",
        "* 输出的结构类似于一个积木块，文本块通常以说话人的名字开头，所有的大写字母与数据集相似。\n",
        "* 如下所示，该模型在小批量文本(每个文本100个字符)上进行训练，并且仍然能够生成具有连贯结构的更长的文本序列。"
      ]
    },
    {
      "cell_type": "markdown",
      "metadata": {
        "id": "WlHE1xMFKnvL"
      },
      "source": [
        "### 配置\n"
      ]
    },
    {
      "cell_type": "code",
      "execution_count": 2,
      "metadata": {
        "id": "SNY7nI5aKnvL"
      },
      "outputs": [],
      "source": [
        "import tensorflow as tf\n",
        "\n",
        "import numpy as np\n",
        "import os\n",
        "import time"
      ]
    },
    {
      "cell_type": "markdown",
      "metadata": {
        "id": "IZCfXEQ3KnvM"
      },
      "source": [
        "### 下载莎士比亚数据集\n"
      ]
    },
    {
      "cell_type": "code",
      "execution_count": 3,
      "metadata": {
        "colab": {
          "base_uri": "https://localhost:8080/"
        },
        "id": "iv-sQudYKnvM",
        "outputId": "739f9398-1193-4ed2-8acc-fa78f01748a9"
      },
      "outputs": [
        {
          "output_type": "stream",
          "name": "stdout",
          "text": [
            "Downloading data from https://storage.googleapis.com/download.tensorflow.org/data/shakespeare.txt\n",
            "1115394/1115394 [==============================] - 0s 0us/step\n"
          ]
        }
      ],
      "source": [
        "path_to_file = tf.keras.utils.get_file('shakespeare.txt', 'https://storage.googleapis.com/download.tensorflow.org/data/shakespeare.txt')"
      ]
    },
    {
      "cell_type": "markdown",
      "metadata": {
        "id": "Qp6zyX6-KnvN"
      },
      "source": [
        "### 阅读数据\n"
      ]
    },
    {
      "cell_type": "code",
      "execution_count": 4,
      "metadata": {
        "colab": {
          "base_uri": "https://localhost:8080/"
        },
        "id": "uO12vOSBKnvN",
        "outputId": "c3e9c5d6-832e-42bd-c548-c801454efcbb"
      },
      "outputs": [
        {
          "output_type": "stream",
          "name": "stdout",
          "text": [
            "Length of text: 1115394 characters\n"
          ]
        }
      ],
      "source": [
        "# Read, then decode for py2 compat.\n",
        "text = open(path_to_file, 'rb').read().decode(encoding='utf-8')\n",
        "# length of text is the number of characters in it\n",
        "print(f'Length of text: {len(text)} characters')"
      ]
    },
    {
      "cell_type": "code",
      "execution_count": 5,
      "metadata": {
        "colab": {
          "base_uri": "https://localhost:8080/"
        },
        "id": "UMmydQNmKnvN",
        "outputId": "2391d690-cc9c-4fd9-9721-7fcb9a6babb4"
      },
      "outputs": [
        {
          "output_type": "stream",
          "name": "stdout",
          "text": [
            "First Citizen:\n",
            "Before we proceed any further, hear me speak.\n",
            "\n",
            "All:\n",
            "Speak, speak.\n",
            "\n",
            "First Citizen:\n",
            "You are all resolved rather to die than to famish?\n",
            "\n",
            "All:\n",
            "Resolved. resolved.\n",
            "\n",
            "First Citizen:\n",
            "First, you know Caius Marcius is chief enemy to the people.\n",
            "\n"
          ]
        }
      ],
      "source": [
        "# 查看前250个字符\n",
        "print(text[:250])"
      ]
    },
    {
      "cell_type": "code",
      "execution_count": 6,
      "metadata": {
        "colab": {
          "base_uri": "https://localhost:8080/"
        },
        "id": "bUruL2xlKnvO",
        "outputId": "8d62ff33-4f67-40ac-f0ca-f1881a9a6eff"
      },
      "outputs": [
        {
          "output_type": "stream",
          "name": "stdout",
          "text": [
            "65 unique characters\n"
          ]
        }
      ],
      "source": [
        "# 文件中唯一的字符（将text装入set中，相当于计数文本中一共有多少个词（去重））\n",
        "vocab = sorted(set(text))\n",
        "print(f'{len(vocab)} unique characters')"
      ]
    },
    {
      "cell_type": "markdown",
      "metadata": {
        "id": "I-EAuosGKnvO"
      },
      "source": [
        "### 处理数据\n",
        "\n",
        "#### 向量化文本\n",
        "在训练之前，您需要将字符串转换为数字表示形式。\n",
        " tf.keras.layers.StringLookup层可以将每个字符转换为数字ID。它只需要首先将文本拆分为标记。"
      ]
    },
    {
      "cell_type": "code",
      "execution_count": 7,
      "metadata": {
        "colab": {
          "base_uri": "https://localhost:8080/"
        },
        "id": "pdulX6G6KnvO",
        "outputId": "e5f9fd93-133c-4d7b-f399-50865c4fe3bc"
      },
      "outputs": [
        {
          "output_type": "execute_result",
          "data": {
            "text/plain": [
              "<tf.RaggedTensor [[b'a', b'b', b'c', b'd', b'e', b'f', b'g'], [b'x', b'y', b'z']]>"
            ]
          },
          "metadata": {},
          "execution_count": 7
        }
      ],
      "source": [
        "example_texts = ['abcdefg', 'xyz']\n",
        "\n",
        "chars = tf.strings.unicode_split(example_texts, input_encoding='UTF-8')\n",
        "chars"
      ]
    },
    {
      "cell_type": "code",
      "execution_count": 8,
      "metadata": {
        "id": "iCpM1Im0KnvO"
      },
      "outputs": [],
      "source": [
        "# 现在创建tf.keras.layers.StringLookup层:\n",
        "ids_from_chars = tf.keras.layers.StringLookup(\n",
        "    vocabulary=list(vocab), mask_token=None)"
      ]
    },
    {
      "cell_type": "markdown",
      "source": [
        "它将tokens转换为字符id:"
      ],
      "metadata": {
        "id": "xRfULd3tLuSP"
      }
    },
    {
      "cell_type": "code",
      "source": [
        "ids = ids_from_chars(chars)\n",
        "ids"
      ],
      "metadata": {
        "colab": {
          "base_uri": "https://localhost:8080/"
        },
        "id": "MH7lagfBL0gT",
        "outputId": "06de7c4c-1ec3-4e8a-beba-51bc728ad6ff"
      },
      "execution_count": 9,
      "outputs": [
        {
          "output_type": "execute_result",
          "data": {
            "text/plain": [
              "<tf.RaggedTensor [[40, 41, 42, 43, 44, 45, 46], [63, 64, 65]]>"
            ]
          },
          "metadata": {},
          "execution_count": 9
        }
      ]
    },
    {
      "cell_type": "markdown",
      "source": [
        "由于本教程的目标是生成文本，因此颠倒这种表示并从中恢复人类可读的字符串也很重要。为此，你可以使用tf.keras.layers.StringLookup(…,invert=True)。"
      ],
      "metadata": {
        "id": "sTSMhIOJMC0h"
      }
    },
    {
      "cell_type": "code",
      "source": [
        "chars_from_ids = tf.keras.layers.StringLookup(\n",
        "    vocabulary=ids_from_chars.get_vocabulary(), invert=True, mask_token=None)"
      ],
      "metadata": {
        "id": "al1drW66MGgM"
      },
      "execution_count": 10,
      "outputs": []
    },
    {
      "cell_type": "code",
      "source": [
        "# 从id转变为字符\n",
        "chars = chars_from_ids(ids)\n",
        "chars"
      ],
      "metadata": {
        "colab": {
          "base_uri": "https://localhost:8080/"
        },
        "id": "gn4TYpQ3Mduq",
        "outputId": "7d904d98-32cf-45f3-f0bb-23e05b13189e"
      },
      "execution_count": 11,
      "outputs": [
        {
          "output_type": "execute_result",
          "data": {
            "text/plain": [
              "<tf.RaggedTensor [[b'a', b'b', b'c', b'd', b'e', b'f', b'g'], [b'x', b'y', b'z']]>"
            ]
          },
          "metadata": {},
          "execution_count": 11
        }
      ]
    },
    {
      "cell_type": "markdown",
      "source": [
        "你可以使用tf.strings.reduce_join将字符连接回字符串。"
      ],
      "metadata": {
        "id": "U5numVzhMp9d"
      }
    },
    {
      "cell_type": "code",
      "source": [
        "tf.strings.reduce_join(chars, axis=-1).numpy()"
      ],
      "metadata": {
        "colab": {
          "base_uri": "https://localhost:8080/"
        },
        "id": "aRP9ew84MtrC",
        "outputId": "bd2bbdbd-f17e-4638-db10-3045573b5159"
      },
      "execution_count": 12,
      "outputs": [
        {
          "output_type": "execute_result",
          "data": {
            "text/plain": [
              "array([b'abcdefg', b'xyz'], dtype=object)"
            ]
          },
          "metadata": {},
          "execution_count": 12
        }
      ]
    },
    {
      "cell_type": "code",
      "source": [
        "def text_from_ids(ids):\n",
        "  return tf.strings.reduce_join(chars_from_ids(ids), axis=-1)"
      ],
      "metadata": {
        "id": "f1x5KYMyMuvc"
      },
      "execution_count": 13,
      "outputs": []
    },
    {
      "cell_type": "markdown",
      "source": [
        "#### 预测任务\n",
        "给定一个字符，或一个字符序列，下一个最可能的字符是什么?这就是你训练模型执行的任务。模型的输入将是一个字符序列，您训练模型来预测输出——在每个时间步上的以下字符。\n",
        "\n",
        "由于rnn维持一种依赖于先前看到的元素的内部状态，给定到目前为止计算的所有字符，下一个字符是什么?"
      ],
      "metadata": {
        "id": "GENg1titM8b-"
      }
    },
    {
      "cell_type": "markdown",
      "source": [
        "#### 创建训练实例和目标\n",
        "接下来将文本划分为示例序列。每个输入序列将包含来自文本的seq_length字符。\n",
        "\n",
        "对于每个输入序列，对应的目标包含相同长度的文本，只是向右移动了一个字符。\n",
        "\n",
        "所以将文本分成seq_length+1的块。例如，假设seq_length为4，我们的文本为“Hello”。输入序列是“Hell”，目标序列是“ello”。\n",
        "\n",
        "要做到这一点，首先使用tf.data.Dataset.from_tensor_slices函数将文本向量转换为字符索引流。"
      ],
      "metadata": {
        "id": "RUWyBc5qNd0J"
      }
    },
    {
      "cell_type": "code",
      "source": [
        "# 将字符转化为ids\n",
        "all_ids = ids_from_chars(tf.strings.unicode_split(text, 'UTF-8'))\n",
        "all_ids"
      ],
      "metadata": {
        "colab": {
          "base_uri": "https://localhost:8080/"
        },
        "id": "FrLGiL-8M3US",
        "outputId": "9824973b-5f31-4bca-9af9-ccb5dfa51734"
      },
      "execution_count": 14,
      "outputs": [
        {
          "output_type": "execute_result",
          "data": {
            "text/plain": [
              "<tf.Tensor: shape=(1115394,), dtype=int64, numpy=array([19, 48, 57, ..., 46,  9,  1])>"
            ]
          },
          "metadata": {},
          "execution_count": 14
        }
      ]
    },
    {
      "cell_type": "code",
      "source": [
        "ids_dataset = tf.data.Dataset.from_tensor_slices(all_ids)"
      ],
      "metadata": {
        "id": "jox8ywFnOQvv"
      },
      "execution_count": 15,
      "outputs": []
    },
    {
      "cell_type": "code",
      "source": [
        "for ids in ids_dataset.take(10):\n",
        "    print(chars_from_ids(ids).numpy().decode('utf-8'))"
      ],
      "metadata": {
        "colab": {
          "base_uri": "https://localhost:8080/"
        },
        "id": "JNSj82liOUY0",
        "outputId": "83e56ed2-6551-422c-84cc-8ccf9e554b1c"
      },
      "execution_count": 16,
      "outputs": [
        {
          "output_type": "stream",
          "name": "stdout",
          "text": [
            "F\n",
            "i\n",
            "r\n",
            "s\n",
            "t\n",
            " \n",
            "C\n",
            "i\n",
            "t\n",
            "i\n"
          ]
        }
      ]
    },
    {
      "cell_type": "code",
      "source": [
        "seq_length = 100"
      ],
      "metadata": {
        "id": "nQpNtTswPBgy"
      },
      "execution_count": 17,
      "outputs": []
    },
    {
      "cell_type": "markdown",
      "source": [
        "批处理方法允许您轻松地将这些单个字符转换为所需大小的序列。"
      ],
      "metadata": {
        "id": "t10FFyoKPEyr"
      }
    },
    {
      "cell_type": "code",
      "source": [
        "sequences = ids_dataset.batch(seq_length+1, drop_remainder=True)\n",
        "\n",
        "for seq in sequences.take(1):\n",
        "  print(chars_from_ids(seq))"
      ],
      "metadata": {
        "colab": {
          "base_uri": "https://localhost:8080/"
        },
        "id": "bO1upgMPPGOZ",
        "outputId": "d5de7927-79c8-4d6c-b97c-95a5eadbf13b"
      },
      "execution_count": 18,
      "outputs": [
        {
          "output_type": "stream",
          "name": "stdout",
          "text": [
            "tf.Tensor(\n",
            "[b'F' b'i' b'r' b's' b't' b' ' b'C' b'i' b't' b'i' b'z' b'e' b'n' b':'\n",
            " b'\\n' b'B' b'e' b'f' b'o' b'r' b'e' b' ' b'w' b'e' b' ' b'p' b'r' b'o'\n",
            " b'c' b'e' b'e' b'd' b' ' b'a' b'n' b'y' b' ' b'f' b'u' b'r' b't' b'h'\n",
            " b'e' b'r' b',' b' ' b'h' b'e' b'a' b'r' b' ' b'm' b'e' b' ' b's' b'p'\n",
            " b'e' b'a' b'k' b'.' b'\\n' b'\\n' b'A' b'l' b'l' b':' b'\\n' b'S' b'p' b'e'\n",
            " b'a' b'k' b',' b' ' b's' b'p' b'e' b'a' b'k' b'.' b'\\n' b'\\n' b'F' b'i'\n",
            " b'r' b's' b't' b' ' b'C' b'i' b't' b'i' b'z' b'e' b'n' b':' b'\\n' b'Y'\n",
            " b'o' b'u' b' '], shape=(101,), dtype=string)\n"
          ]
        }
      ]
    },
    {
      "cell_type": "markdown",
      "source": [
        "将tokens连接回字符串，则更容易看到这是在做什么:"
      ],
      "metadata": {
        "id": "Vf-F2GN9P-ME"
      }
    },
    {
      "cell_type": "code",
      "source": [
        "for seq in sequences.take(5):\n",
        "  print(text_from_ids(seq).numpy())"
      ],
      "metadata": {
        "colab": {
          "base_uri": "https://localhost:8080/"
        },
        "id": "ptZ1fpoCQAMQ",
        "outputId": "506b0244-d963-4cad-a850-18eb8715c0da"
      },
      "execution_count": 19,
      "outputs": [
        {
          "output_type": "stream",
          "name": "stdout",
          "text": [
            "b'First Citizen:\\nBefore we proceed any further, hear me speak.\\n\\nAll:\\nSpeak, speak.\\n\\nFirst Citizen:\\nYou '\n",
            "b'are all resolved rather to die than to famish?\\n\\nAll:\\nResolved. resolved.\\n\\nFirst Citizen:\\nFirst, you k'\n",
            "b\"now Caius Marcius is chief enemy to the people.\\n\\nAll:\\nWe know't, we know't.\\n\\nFirst Citizen:\\nLet us ki\"\n",
            "b\"ll him, and we'll have corn at our own price.\\nIs't a verdict?\\n\\nAll:\\nNo more talking on't; let it be d\"\n",
            "b'one: away, away!\\n\\nSecond Citizen:\\nOne word, good citizens.\\n\\nFirst Citizen:\\nWe are accounted poor citi'\n"
          ]
        }
      ]
    },
    {
      "cell_type": "markdown",
      "source": [
        "对于训练，你需要一个(输入，标签)对的数据集。其中input和label是序列。在每个时间步，输入是当前字符，标签是下一个字符。\n",
        "\n",
        "下面是一个函数，它将一个序列作为输入，复制并移动它以使每个时间步的输入和标签对齐:"
      ],
      "metadata": {
        "id": "i8iBmQIYQY2i"
      }
    },
    {
      "cell_type": "code",
      "source": [
        "def split_input_target(sequence):\n",
        "    input_text = sequence[:-1]\n",
        "    target_text = sequence[1:]\n",
        "    return input_text, target_text"
      ],
      "metadata": {
        "id": "7EhEwLBPQhzI"
      },
      "execution_count": 20,
      "outputs": []
    },
    {
      "cell_type": "code",
      "source": [
        "# 相当于给你“Tensorflo\"，让你预测“ensorflow\"\n",
        "split_input_target(list(\"Tensorflow\"))"
      ],
      "metadata": {
        "colab": {
          "base_uri": "https://localhost:8080/"
        },
        "id": "b5PX9mzkQoHW",
        "outputId": "a7f0be77-ce15-4af4-e576-99870312d98f"
      },
      "execution_count": 21,
      "outputs": [
        {
          "output_type": "execute_result",
          "data": {
            "text/plain": [
              "(['T', 'e', 'n', 's', 'o', 'r', 'f', 'l', 'o'],\n",
              " ['e', 'n', 's', 'o', 'r', 'f', 'l', 'o', 'w'])"
            ]
          },
          "metadata": {},
          "execution_count": 21
        }
      ]
    },
    {
      "cell_type": "code",
      "source": [
        "dataset = sequences.map(split_input_target)\n",
        "\n",
        "for input_example, target_example in dataset.take(1):\n",
        "    print(\"Input :\", text_from_ids(input_example).numpy())\n",
        "    print(\"Target:\", text_from_ids(target_example).numpy()) #这里后面是一个空格"
      ],
      "metadata": {
        "colab": {
          "base_uri": "https://localhost:8080/"
        },
        "id": "yXOSktztReTB",
        "outputId": "b6badb42-d11f-4239-b8b1-370ea39c0838"
      },
      "execution_count": 22,
      "outputs": [
        {
          "output_type": "stream",
          "name": "stdout",
          "text": [
            "Input : b'First Citizen:\\nBefore we proceed any further, hear me speak.\\n\\nAll:\\nSpeak, speak.\\n\\nFirst Citizen:\\nYou'\n",
            "Target: b'irst Citizen:\\nBefore we proceed any further, hear me speak.\\n\\nAll:\\nSpeak, speak.\\n\\nFirst Citizen:\\nYou '\n"
          ]
        }
      ]
    },
    {
      "cell_type": "markdown",
      "source": [
        "#### 创建训练批次\n",
        "使用用了tf.data将文本分割成可管理的序列的数据。但是，在将这些数据输入模型之前，您需要对数据进行洗牌并将其打包成批。"
      ],
      "metadata": {
        "id": "IeaadDjhR_Ng"
      }
    },
    {
      "cell_type": "code",
      "source": [
        "# Batch size\n",
        "BATCH_SIZE = 64\n",
        "\n",
        "# 打乱数据集的缓冲区大小\n",
        "# (TF数据被设计用于处理可能无限的序列，因此它不会试图打乱内存中的整个序列。相反，它维护一个缓冲区，在其中对元素进行洗牌).\n",
        "BUFFER_SIZE = 10000\n",
        "\n",
        "dataset = (\n",
        "    dataset\n",
        "    .shuffle(BUFFER_SIZE)\n",
        "    .batch(BATCH_SIZE, drop_remainder=True)\n",
        "    .prefetch(tf.data.experimental.AUTOTUNE))\n",
        "\n",
        "dataset"
      ],
      "metadata": {
        "colab": {
          "base_uri": "https://localhost:8080/"
        },
        "id": "5NKesOSTR7SY",
        "outputId": "64bb6f40-e1b6-41a0-ba73-4c9c6eb6efa4"
      },
      "execution_count": 23,
      "outputs": [
        {
          "output_type": "execute_result",
          "data": {
            "text/plain": [
              "<_PrefetchDataset element_spec=(TensorSpec(shape=(64, 100), dtype=tf.int64, name=None), TensorSpec(shape=(64, 100), dtype=tf.int64, name=None))>"
            ]
          },
          "metadata": {},
          "execution_count": 23
        }
      ]
    },
    {
      "cell_type": "markdown",
      "source": [
        "### 建模\n",
        "这个模型有三层:\n",
        "* tf.keras.layers.Embedding: 输入层。一个可训练的查找表，将每个字符id映射到具有embedding_dim维度的向量;\n",
        "* tf.keras.layers.GRU: 一种大小单位=rnn_units的RNN(你也可以在这里使用LSTM层)。\n",
        "* tf.keras.layers.Dense: 输出层，输出为vocab_size。它为词汇表中的每个字符输出一个logit。根据模型，这些是每个字符的对数似然。"
      ],
      "metadata": {
        "id": "a47I2Cf9Sv7j"
      }
    },
    {
      "cell_type": "code",
      "source": [
        "# StringLookup层中词汇表的长度\n",
        "vocab_size = len(ids_from_chars.get_vocabulary())\n",
        "\n",
        "# 嵌入维数\n",
        "embedding_dim = 256\n",
        "\n",
        "# RNN单元的数量\n",
        "rnn_units = 1024"
      ],
      "metadata": {
        "id": "FYWdBunVSWba"
      },
      "execution_count": 24,
      "outputs": []
    },
    {
      "cell_type": "code",
      "source": [
        "class MyModel(tf.keras.Model):\n",
        "  def __init__(self, vocab_size, embedding_dim, rnn_units):\n",
        "    super().__init__(self)\n",
        "    self.embedding = tf.keras.layers.Embedding(vocab_size, embedding_dim)\n",
        "    self.gru = tf.keras.layers.GRU(rnn_units,\n",
        "                    return_sequences=True,\n",
        "                    return_state=True)\n",
        "    self.dense = tf.keras.layers.Dense(vocab_size)\n",
        "\n",
        "  def call(self, inputs, states=None, return_state=False, training=False):\n",
        "    x = inputs\n",
        "    x = self.embedding(x, training=training)\n",
        "    if states is None:\n",
        "      states = self.gru.get_initial_state(x)\n",
        "    x, states = self.gru(x, initial_state=states, training=training)\n",
        "    x = self.dense(x, training=training)\n",
        "\n",
        "    if return_state:\n",
        "      return x, states\n",
        "    else:\n",
        "      return x"
      ],
      "metadata": {
        "id": "t7WkCbtFVrme"
      },
      "execution_count": 25,
      "outputs": []
    },
    {
      "cell_type": "code",
      "source": [
        "model = MyModel(\n",
        "    vocab_size=vocab_size,\n",
        "    embedding_dim=embedding_dim,\n",
        "    rnn_units=rnn_units)"
      ],
      "metadata": {
        "id": "qlcGmDFOW0y_"
      },
      "execution_count": 26,
      "outputs": []
    },
    {
      "cell_type": "markdown",
      "source": [
        "对于每个字符，模型查找嵌入，以嵌入作为输入运行GRU一个时间步，并应用密集层生成预测下一个字符的对数似然的logits:\n",
        "\n",
        "![image.png](data:image/png;base64,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)"
      ],
      "metadata": {
        "id": "am60wa5dXBFF"
      }
    },
    {
      "cell_type": "markdown",
      "source": [
        "现在运行模型，看看它的行为是否符合预期。\n",
        "\n",
        "首先检查输出的形状:"
      ],
      "metadata": {
        "id": "u_RlqVB3XlDQ"
      }
    },
    {
      "cell_type": "code",
      "source": [
        "for input_example_batch, target_example_batch in dataset.take(1):\n",
        "    example_batch_predictions = model(input_example_batch)\n",
        "    print(example_batch_predictions.shape, \"# (batch_size, sequence_length, vocab_size)\")"
      ],
      "metadata": {
        "colab": {
          "base_uri": "https://localhost:8080/"
        },
        "id": "e1jloLFOXJqe",
        "outputId": "cb9751ff-fa54-43be-cff0-5b71ab5ae5e5"
      },
      "execution_count": 27,
      "outputs": [
        {
          "output_type": "stream",
          "name": "stdout",
          "text": [
            "(64, 100, 66) # (batch_size, sequence_length, vocab_size)\n"
          ]
        }
      ]
    },
    {
      "cell_type": "code",
      "source": [
        "model.summary()"
      ],
      "metadata": {
        "colab": {
          "base_uri": "https://localhost:8080/"
        },
        "id": "z68smF2JX4sR",
        "outputId": "cf9aab56-37c6-49d6-da12-59dcb9ae8f04"
      },
      "execution_count": 28,
      "outputs": [
        {
          "output_type": "stream",
          "name": "stdout",
          "text": [
            "Model: \"my_model\"\n",
            "_________________________________________________________________\n",
            " Layer (type)                Output Shape              Param #   \n",
            "=================================================================\n",
            " embedding (Embedding)       multiple                  16896     \n",
            "                                                                 \n",
            " gru (GRU)                   multiple                  3938304   \n",
            "                                                                 \n",
            " dense (Dense)               multiple                  67650     \n",
            "                                                                 \n",
            "=================================================================\n",
            "Total params: 4,022,850\n",
            "Trainable params: 4,022,850\n",
            "Non-trainable params: 0\n",
            "_________________________________________________________________\n"
          ]
        }
      ]
    },
    {
      "cell_type": "markdown",
      "source": [
        "为了从模型中获得实际的预测，您需要从输出分布中采样，以获得实际的字符索引。这种分布是由字符词汇表上的logits定义的。\n",
        "\n",
        "注意:从这个分布中抽样很重要，因为取分布的argmax很容易使模型陷入循环。"
      ],
      "metadata": {
        "id": "uC3eG-uNYEIq"
      }
    },
    {
      "cell_type": "code",
      "source": [
        "# 处理一个例子尝试一下\n",
        "sampled_indices = tf.random.categorical(example_batch_predictions[0], num_samples=1)\n",
        "sampled_indices = tf.squeeze(sampled_indices, axis=-1).numpy()"
      ],
      "metadata": {
        "id": "_2iqVAHRX5FH"
      },
      "execution_count": 29,
      "outputs": []
    },
    {
      "cell_type": "code",
      "source": [
        "# 在每个时间步，这将为我们提供下一个字符索引的预测:\n",
        "sampled_indices"
      ],
      "metadata": {
        "colab": {
          "base_uri": "https://localhost:8080/"
        },
        "id": "Fd8krn22YPmP",
        "outputId": "12e0b3b5-a310-41b8-c5bc-9f91b864bb02"
      },
      "execution_count": 30,
      "outputs": [
        {
          "output_type": "execute_result",
          "data": {
            "text/plain": [
              "array([16, 44, 19, 33, 21,  6, 61, 38, 20, 24, 55,  0, 35, 32, 51, 29,  5,\n",
              "       19, 41, 57, 21, 56, 63, 56, 47, 55, 53, 64, 53, 64, 57, 33, 48, 12,\n",
              "        2, 21,  0, 10, 23, 39, 10,  8,  8, 33, 64, 63, 62, 37, 34,  8, 11,\n",
              "       35, 64, 43, 48, 18, 32, 60, 58, 14, 44, 51,  3, 25, 40, 47, 33, 22,\n",
              "       58, 57, 42, 57, 37, 29,  5, 60, 21, 28, 10, 43, 25, 30, 59, 23, 13,\n",
              "       40, 40, 61, 50,  2, 12,  9,  2, 38, 42, 20, 36, 21, 24,  3])"
            ]
          },
          "metadata": {},
          "execution_count": 30
        }
      ]
    },
    {
      "cell_type": "markdown",
      "source": [
        "解码这些，看看这个未经训练的模型预测的文本:"
      ],
      "metadata": {
        "id": "wHxWC7PpYz14"
      }
    },
    {
      "cell_type": "code",
      "source": [
        "print(\"Input:\\n\", text_from_ids(input_example_batch[0]).numpy())\n",
        "print()\n",
        "print(\"Next Char Predictions:\\n\", text_from_ids(sampled_indices).numpy())"
      ],
      "metadata": {
        "colab": {
          "base_uri": "https://localhost:8080/"
        },
        "id": "dy93CnP_Y1AO",
        "outputId": "6c8dd367-7482-4f3c-b79b-8f5595b1b9f4"
      },
      "execution_count": 31,
      "outputs": [
        {
          "output_type": "stream",
          "name": "stdout",
          "text": [
            "Input:\n",
            " b\"\\nBut stay thee, 'tis the fruits of love I mean.\\n\\nLADY GREY:\\nThe fruits of love I mean, my loving lie\"\n",
            "\n",
            "Next Char Predictions:\n",
            " b\"CeFTH'vYGKp[UNK]VSlP&FbrHqxqhpnynyrTi; H[UNK]3JZ3--TyxwXU-:VydiESusAel!LahTIsrcrXP&uHO3dLQtJ?aavk ;. YcGWHK!\"\n"
          ]
        }
      ]
    },
    {
      "cell_type": "markdown",
      "source": [
        "### 训练模型\n",
        "在这一点上，这个问题可以被视为一个标准的分类问题。给定之前的RNN状态，以及这个时间步长的输入，预测下一个字符的类别。\n",
        "\n"
      ],
      "metadata": {
        "id": "hHJBf3OfZTWS"
      }
    },
    {
      "cell_type": "code",
      "source": [
        "# 稀疏交叉分类损失\n",
        "loss = tf.losses.SparseCategoricalCrossentropy(from_logits=True)"
      ],
      "metadata": {
        "id": "vUyEJTnSZtC9"
      },
      "execution_count": 32,
      "outputs": []
    },
    {
      "cell_type": "code",
      "source": [
        "example_batch_mean_loss = loss(target_example_batch, example_batch_predictions)\n",
        "print(\"Prediction shape: \", example_batch_predictions.shape, \" # (batch_size, sequence_length, vocab_size)\")\n",
        "print(\"Mean loss:        \", example_batch_mean_loss)"
      ],
      "metadata": {
        "colab": {
          "base_uri": "https://localhost:8080/"
        },
        "id": "wJ5TSvQdZxPO",
        "outputId": "bd9df822-082d-4aa2-a005-ea3588f88f99"
      },
      "execution_count": 33,
      "outputs": [
        {
          "output_type": "stream",
          "name": "stdout",
          "text": [
            "Prediction shape:  (64, 100, 66)  # (batch_size, sequence_length, vocab_size)\n",
            "Mean loss:         tf.Tensor(4.1890483, shape=(), dtype=float32)\n"
          ]
        }
      ]
    },
    {
      "cell_type": "markdown",
      "source": [
        "新初始化的模型不应该太确定自己，输出逻辑值应该都有相似的大小。为了证实这一点，您可以检查平均损失的指数是否近似等于词汇量大小。更高的损失意味着模型确定其错误的答案，并且初始化很糟糕:"
      ],
      "metadata": {
        "id": "kcXfr2VqaKz-"
      }
    },
    {
      "cell_type": "code",
      "source": [
        "tf.exp(example_batch_mean_loss).numpy()"
      ],
      "metadata": {
        "colab": {
          "base_uri": "https://localhost:8080/"
        },
        "id": "bmzzZl4dehjT",
        "outputId": "c881713d-dd1b-45cc-94d1-28697b69988a"
      },
      "execution_count": 34,
      "outputs": [
        {
          "output_type": "execute_result",
          "data": {
            "text/plain": [
              "65.959984"
            ]
          },
          "metadata": {},
          "execution_count": 34
        }
      ]
    },
    {
      "cell_type": "markdown",
      "source": [
        "使用tf.keras.Model.compile方法配置训练过程。使用带有默认参数和损失函数的tf.keras.optimizers.Adam。"
      ],
      "metadata": {
        "id": "NWefKfrAerP5"
      }
    },
    {
      "cell_type": "code",
      "source": [
        "model.compile(optimizer='adam', loss=loss)"
      ],
      "metadata": {
        "id": "0qc5EdEpeh5s"
      },
      "execution_count": 35,
      "outputs": []
    },
    {
      "cell_type": "markdown",
      "source": [
        "#### 配置检查点\n",
        "使用tf.keras.callback . modelcheckpoint来确保在训练期间保存检查点:"
      ],
      "metadata": {
        "id": "BHTVaBg-ewOW"
      }
    },
    {
      "cell_type": "code",
      "source": [
        "# 将保存检查点的目录\n",
        "checkpoint_dir = './training_checkpoints'\n",
        "# 检查点文件的名称\n",
        "checkpoint_prefix = os.path.join(checkpoint_dir, \"ckpt_{epoch}\")\n",
        "\n",
        "checkpoint_callback = tf.keras.callbacks.ModelCheckpoint(\n",
        "    filepath=checkpoint_prefix,\n",
        "    save_weights_only=True)"
      ],
      "metadata": {
        "id": "ERCEZGOSesqO"
      },
      "execution_count": 36,
      "outputs": []
    },
    {
      "cell_type": "markdown",
      "source": [
        "#### 开始训练\n"
      ],
      "metadata": {
        "id": "J2DFv9QrfBSR"
      }
    },
    {
      "cell_type": "code",
      "source": [
        "EPOCHS = 20\n",
        "\n",
        "history = model.fit(dataset, epochs=EPOCHS, callbacks=[checkpoint_callback])"
      ],
      "metadata": {
        "colab": {
          "base_uri": "https://localhost:8080/"
        },
        "id": "n9PGiSLvfFvD",
        "outputId": "8d98bc36-45e5-4301-c9a9-322663250138"
      },
      "execution_count": 37,
      "outputs": [
        {
          "output_type": "stream",
          "name": "stdout",
          "text": [
            "Epoch 1/20\n",
            "172/172 [==============================] - 15s 58ms/step - loss: 2.7277\n",
            "Epoch 2/20\n",
            "172/172 [==============================] - 11s 54ms/step - loss: 1.9996\n",
            "Epoch 3/20\n",
            "172/172 [==============================] - 11s 55ms/step - loss: 1.7157\n",
            "Epoch 4/20\n",
            "172/172 [==============================] - 14s 56ms/step - loss: 1.5527\n",
            "Epoch 5/20\n",
            "172/172 [==============================] - 12s 55ms/step - loss: 1.4528\n",
            "Epoch 6/20\n",
            "172/172 [==============================] - 12s 56ms/step - loss: 1.3842\n",
            "Epoch 7/20\n",
            "172/172 [==============================] - 12s 56ms/step - loss: 1.3310\n",
            "Epoch 8/20\n",
            "172/172 [==============================] - 12s 56ms/step - loss: 1.2848\n",
            "Epoch 9/20\n",
            "172/172 [==============================] - 12s 57ms/step - loss: 1.2432\n",
            "Epoch 10/20\n",
            "172/172 [==============================] - 13s 58ms/step - loss: 1.2035\n",
            "Epoch 11/20\n",
            "172/172 [==============================] - 12s 57ms/step - loss: 1.1628\n",
            "Epoch 12/20\n",
            "172/172 [==============================] - 12s 57ms/step - loss: 1.1216\n",
            "Epoch 13/20\n",
            "172/172 [==============================] - 13s 57ms/step - loss: 1.0770\n",
            "Epoch 14/20\n",
            "172/172 [==============================] - 12s 57ms/step - loss: 1.0313\n",
            "Epoch 15/20\n",
            "172/172 [==============================] - 12s 58ms/step - loss: 0.9818\n",
            "Epoch 16/20\n",
            "172/172 [==============================] - 12s 58ms/step - loss: 0.9311\n",
            "Epoch 17/20\n",
            "172/172 [==============================] - 12s 57ms/step - loss: 0.8779\n",
            "Epoch 18/20\n",
            "172/172 [==============================] - 13s 57ms/step - loss: 0.8260\n",
            "Epoch 19/20\n",
            "172/172 [==============================] - 13s 59ms/step - loss: 0.7738\n",
            "Epoch 20/20\n",
            "172/172 [==============================] - 13s 58ms/step - loss: 0.7250\n"
          ]
        }
      ]
    },
    {
      "cell_type": "markdown",
      "source": [
        "### 生成文本\n",
        "使用该模型生成文本的最简单方法是在循环中运行它，并在执行时跟踪模型的内部状态。\n",
        "![image.png](data:image/png;base64,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)"
      ],
      "metadata": {
        "id": "hTzrp1e5gqjK"
      }
    },
    {
      "cell_type": "markdown",
      "source": [
        "每次调用模型时，都会传入一些文本和一个内部状态。该模型返回下一个字符及其新状态的预测。将预测和状态传回以继续生成文本。\n",
        "\n",
        "下面做一个单步预测:"
      ],
      "metadata": {
        "id": "gZEDSFWegyTP"
      }
    },
    {
      "cell_type": "code",
      "source": [
        "class OneStep(tf.keras.Model):\n",
        "  # 单步预测\n",
        "  def __init__(self, model, chars_from_ids, ids_from_chars, temperature=1.0):\n",
        "    super().__init__()\n",
        "    self.temperature = temperature\n",
        "    self.model = model\n",
        "    self.chars_from_ids = chars_from_ids\n",
        "    self.ids_from_chars = ids_from_chars\n",
        "\n",
        "    # 创建一个掩码以防止“[UNK]”生成。\n",
        "    skip_ids = self.ids_from_chars(['[UNK]'])[:, None]\n",
        "    sparse_mask = tf.SparseTensor(\n",
        "        # 在每个不好的索引上加一个-inf。\n",
        "        values=[-float('inf')]*len(skip_ids),\n",
        "        indices=skip_ids,\n",
        "        # 将形状与词汇相匹配\n",
        "        dense_shape=[len(ids_from_chars.get_vocabulary())])\n",
        "    self.prediction_mask = tf.sparse.to_dense(sparse_mask)\n",
        "\n",
        "  @tf.function\n",
        "  def generate_one_step(self, inputs, states=None):\n",
        "    # 将字符串转换为令牌id。\n",
        "    input_chars = tf.strings.unicode_split(inputs, 'UTF-8')\n",
        "    input_ids = self.ids_from_chars(input_chars).to_tensor()\n",
        "\n",
        "    # 运行模型\n",
        "    # predicted_logits.shape is [batch, char, next_char_logits]\n",
        "    predicted_logits, states = self.model(inputs=input_ids, states=states,\n",
        "                        return_state=True)\n",
        "    # 只使用最后的预测。\n",
        "    predicted_logits = predicted_logits[:, -1, :]\n",
        "    predicted_logits = predicted_logits/self.temperature\n",
        "    # 应用预测掩码:防止“[UNK]”生成。\n",
        "    predicted_logits = predicted_logits + self.prediction_mask\n",
        "\n",
        "    # 对输出日志进行采样以生成token id。\n",
        "    predicted_ids = tf.random.categorical(predicted_logits, num_samples=1)\n",
        "    predicted_ids = tf.squeeze(predicted_ids, axis=-1)\n",
        "\n",
        "    # 将令牌id转换为字符\n",
        "    predicted_chars = self.chars_from_ids(predicted_ids)\n",
        "\n",
        "    # 返回字符和模型状态。\n",
        "    return predicted_chars, states"
      ],
      "metadata": {
        "id": "9ZZiOvfafIDs"
      },
      "execution_count": 38,
      "outputs": []
    },
    {
      "cell_type": "code",
      "source": [
        "one_step_model = OneStep(model, chars_from_ids, ids_from_chars)"
      ],
      "metadata": {
        "id": "LQN_76AQiDCn"
      },
      "execution_count": 39,
      "outputs": []
    },
    {
      "cell_type": "markdown",
      "source": [
        "在循环中运行它以生成一些文本。查看生成的文本，您将看到该模型知道何时大写、撰写段落并模仿莎士比亚式的写作词汇。由于训练次数少，它还没有学会形成连贯的句子。"
      ],
      "metadata": {
        "id": "VEB4FVA3iKxh"
      }
    },
    {
      "cell_type": "code",
      "source": [
        "start = time.time()\n",
        "states = None\n",
        "next_char = tf.constant(['ROMEO:'])\n",
        "result = [next_char]\n",
        "\n",
        "for n in range(1000):\n",
        "  next_char, states = one_step_model.generate_one_step(next_char, states=states)\n",
        "  result.append(next_char)\n",
        "\n",
        "result = tf.strings.join(result)\n",
        "end = time.time()\n",
        "print(result[0].numpy().decode('utf-8'), '\\n\\n' + '_'*80)\n",
        "print('\\nRun time:', end - start)"
      ],
      "metadata": {
        "colab": {
          "base_uri": "https://localhost:8080/"
        },
        "id": "M9BBTr4UiLTi",
        "outputId": "845b659c-ab96-4666-882e-5ac38a4590e4"
      },
      "execution_count": 44,
      "outputs": [
        {
          "output_type": "stream",
          "name": "stdout",
          "text": [
            "ROMEO:\n",
            "The eldest wake a worse than I must wrong\n",
            "Henceforthy I am out--but for it.\n",
            "\n",
            "ADGID:\n",
            "He hath a harver seas' that apply-tain it and\n",
            "By revenue and death shall breed ones.\n",
            "But such a case is the dost of these sad stirring!\n",
            "But when he pitites calls out of it.\n",
            "Mistake me not, I must have spoken from such grace,\n",
            "To give me from Dull of Buckingham to thee,\n",
            "The next give way that subfuble from the virgin post\n",
            "Should, said that hath a pedlar: though it be dissiden.\n",
            "\n",
            "KING RICHARD III:\n",
            "If, Tybalt, trunce! But, speak!\n",
            "I am a wish, was return to you.\n",
            "\n",
            "ANGELO:\n",
            "See where we would entreat brings the ungent our teddoman,\n",
            "or like a counterfeit bawd. Give me the banks\n",
            "Which 'twas he entertain'd thy poverty,\n",
            "And many slaughter with your heart wept nor less hand,\n",
            "Though 'tis thus can he lies.\n",
            "\n",
            "SEBASTIAN:\n",
            "No; for I am ready to lendy heart.\n",
            "Thus plucks high thoughts, not took her past\n",
            "And chamber appear'd. Come, sirrah yourself\n",
            "I tell yea, and I will pardon me and\n",
            "Of this vice buck and leave their walls.\n",
            "\n",
            " \n",
            "\n",
            "________________________________________________________________________________\n",
            "\n",
            "Run time: 4.375721454620361\n"
          ]
        }
      ]
    },
    {
      "cell_type": "markdown",
      "source": [
        "你能做的最简单的事情就是延长训练时间(试试EPOCHS = 30)。\n",
        "\n",
        "您还可以尝试使用不同的起始字符串，尝试添加另一个RNN层以提高模型的准确性，或者调整温度参数以生成或多或少随机的预测。\n",
        "\n",
        "如果您希望模型更快地生成文本，您可以做的最简单的事情就是批量生成文本。在下面的例子中，模型生成5个输出的时间与上面生成1个输出的时间大致相同。"
      ],
      "metadata": {
        "id": "6z-_G5kai2K-"
      }
    },
    {
      "cell_type": "code",
      "source": [
        "start = time.time()\n",
        "states = None\n",
        "next_char = tf.constant(['ROMEO:', 'ROMEO:', 'ROMEO:', 'ROMEO:', 'ROMEO:'])\n",
        "result = [next_char]\n",
        "\n",
        "for n in range(1000):\n",
        "  next_char, states = one_step_model.generate_one_step(next_char, states=states)\n",
        "  result.append(next_char)\n",
        "\n",
        "result = tf.strings.join(result)\n",
        "end = time.time()\n",
        "print(result, '\\n\\n' + '_'*80)\n",
        "print('\\nRun time:', end - start)"
      ],
      "metadata": {
        "colab": {
          "base_uri": "https://localhost:8080/"
        },
        "id": "onIs4gjbjCKS",
        "outputId": "88c6168f-c9e8-467b-dcb1-a66c7a6aea55"
      },
      "execution_count": 48,
      "outputs": [
        {
          "output_type": "stream",
          "name": "stdout",
          "text": [
            "tf.Tensor(\n",
            "[b\"ROMEO:\\nThese lands all taunts in below his hands\\nWhich he shall find like galland, like a nuked\\nYou will revenge it still upon him.--Low in the curses,\\nWhose hand shed want her kindness and his last,\\nAnd 'twere to do myself to but myssilt end:\\nRemember judgment, scarce any journain of mine,\\nWhen, ere they, in the axeling part not this cofflows in the flinty\\nAs if her eye-bell ere the city I have in him.\\nBut I shall love My lord,\\nMust get upon my brother.\\n\\nMIRANDA:\\nO my poor Margaret, and perish!\\nThus, if thou say the King of Buckingham, battlew must\\nForsook her; but on the way\\nI was from the visage of ten thousand,\\nNothing pups sworms, and express come neaven\\nmuch to death, and her burpher blush in earth.\\n\\nFRIAR LAURENCE:\\nSo chose this odds be, let no great Apollo's ward.\\nWhat, is there some sword, and do contest the earth?\\nWhy, this shall see, the title will be tempted to oxenswife's angers\\nNearved fruitful visition well,\\nThat thought to beat do stirs of them; rule,\\nWho duck bring fashion o\"\n",
            " b\"ROMEO:\\nO that guess, daughter, be thy father.\\n\\nYORK:\\nI am able to be of great amaim\\nDise that are not being charged. If you\\nhave ever made my cousin Hereford, heigh! fear be.\\nIt said 'shall'? flay't with the marriage--\\n\\nSAMPSON:\\nDraw, Bolingbroke: you cannot guess.\\n\\nGLOUCESTER:\\nWhat news abroad, I will; we will commend\\nThe flesh of mercy. Sirron, post that ha!\\n\\nQUEEN MARGARET:\\nPeace, it stands yourself than we did keep to-caite,\\nAm I mine honesty welcome here.\\n\\nSICINIUS:\\nStarf, I have my purpose doth.\\n\\nAUFIDIUS:\\nEarl of justice!\\nHe'er had better witnesses. My father's sad\\nstars, starts, another, speaking, spoke unto you;\\nCome, you are but reweven. Heaven be so featled, call not\\nThe state that came the lieful story have got\\nThe unjustle; thou, sooththing!\\nFor this I think, is content to ned: and he leads\\nTo enter O no one discharge. These eyes\\nOf Brown and true look'd Edward, king,\\nWhen stepal timely hands are thus.\\nTo turn these both fathers 'gainst the sea for one of you;\\nFor being abbotion\"\n",
            " b\"ROMEO:\\nYes, till I have pardon'd you abyord;\\nFor through their daughter, they possess god worthy mercy?\\nTake her gone; and if I will be mine enemies.\\nKnow that over-much to do alive?\\n\\nISABELLA:\\nAy, no longest tear; I am sorry be thy\\nwitisme, the old lady, ladies, leads o' the return:\\nSay, you love peace!\\n\\nMENENIUS:\\n'Tis thought to strike to be your\\npart.\\n\\nHENRY BOLINGBROKE:\\nLook, on that vice, Plantagenet!\\nDown knew of justice, set us, ay, and due too.\\n\\nISABELLA:\\nPlease thee, like such a gentler, sir, I am\\nToo fond to tremble; from the reck; and thankfulness\\nAs I he is the poison of ten daughter.\\nThese letter'd flowers be gracious in pardon.\\n\\nLedisg's young prince, Belkethand on Hereford's sake.\\n\\nQUEEN MARGARET:\\nAy, his apleament, not these greeting to my bont\\nThat pressage the blockness removed: must\\nHe hath beasts one that runs steal'd lies, and they rather\\nThan Romeo seek her true lips to\\nHer judge and baideth still; unger augne right\\nVinner, to their best part that his back.\\nThe law that\"\n",
            " b\"ROMEO:\\nHe prasses, never consul, peace it in the field,\\nMaster, your friends are straised with sigh?--\\nBagot to make alike to arm, and charge\\nThe scandamor brether; those beheld as march.\\nIt dare they bless smothed with it their elyess.\\n\\nCORIOLANUS:\\nLet us revenge you with before: so she divideth haste,\\nAnd every offect imperies strangely.\\n\\nGRUMIO:\\nFallen upon a bank, would ill-for coasen is\\nmy life and lad their parest help King in death,\\nAnd such a fellow happy trip.\\n\\nMIAN ALY:\\nDare you in babe,\\nwill get you to the maid so in my humble with\\nher privilege of grief day would, with such nest\\nShall be extinct with dift. Clarence, and yet I come\\nA labour with your eyes, report my neck,\\nOr I'll kiss me: 'tis well in his passage.\\n\\nSICINIUS:\\nLet's follow: we shall not cet a bank of in\\nWhich nature makes the word.\\n\\nANTONIO:\\nWhy dost thou slity too children?\\nLet me speak say.\\n\\nPETRUCHIO:\\nSome, thou never shall, my lord deed day.\\n\\nHENRY BOLINGBROKE:\\nMany son, I fear thee, sleep, and sufford!\\nSo III:\\n\"\n",
            " b\"ROMEO:\\nStrike the dotiful occaportake he\\nmake legs that beto the Truth, redou to nigh--\\nLady with the heavy rabbind mated!\\nMy daughter here one word their complexion: this is he myself.\\n\\nWARWICK:\\nAnd Buckingham, and yet yourselves:\\nFarewell: O, what, Shall we to die\\nTill Juliot but a sort. What's within; which no lament\\nWith all my faults may chance to seek their infrimented like\\nBefore we could thrive in her eyes,\\nThe saluness are from the strimes that had much\\ndeserved our fortune in the seat o' the cest.\\n\\nGLOUCESTER:\\nMortal, my Lord, here will I remember,\\nA chear bedrage left unto us.\\n\\nCOMINIUS:\\nSoft! I fear, I fear,--\\n\\nQUEEN ELIZABETH:\\nThis is the father, A dozen timorous\\nFrozen friends and to my soul in their eyes.\\nI have a noble scratch that came with you.\\n\\nAUTOLYCUS:\\nI must become to kill him.\\n\\nSICINIUS:\\nThe hence will eaten up your loves!\\nPut thy toolmer--bed I had ruth, not\\nto we or their lords and brought her publicly,\\nhaving no ear. 'tis not for our husband. O,\\nIt is excelse my fa\"], shape=(5,), dtype=string) \n",
            "\n",
            "________________________________________________________________________________\n",
            "\n",
            "Run time: 3.524188756942749\n"
          ]
        }
      ]
    },
    {
      "cell_type": "markdown",
      "source": [
        "### 导出生成器\n",
        "这个单步模型可以很容易地保存和恢复，tf.saved_model允许您在任何地方使用它。"
      ],
      "metadata": {
        "id": "9Av1N8E-jdiM"
      }
    },
    {
      "cell_type": "code",
      "source": [
        "tf.saved_model.save(one_step_model, 'one_step')\n",
        "one_step_reloaded = tf.saved_model.load('one_step')"
      ],
      "metadata": {
        "colab": {
          "base_uri": "https://localhost:8080/"
        },
        "id": "bQCZUDPKjsmi",
        "outputId": "e97cd148-7cc2-442d-dbee-14ca4af7be9c"
      },
      "execution_count": 49,
      "outputs": [
        {
          "output_type": "stream",
          "name": "stderr",
          "text": [
            "WARNING:tensorflow:Skipping full serialization of Keras layer <__main__.OneStep object at 0x7fa9ecd92c20>, because it is not built.\n",
            "WARNING:tensorflow:Model's `__init__()` arguments contain non-serializable objects. Please implement a `get_config()` method in the subclassed Model for proper saving and loading. Defaulting to empty config.\n",
            "WARNING:tensorflow:Model's `__init__()` arguments contain non-serializable objects. Please implement a `get_config()` method in the subclassed Model for proper saving and loading. Defaulting to empty config.\n",
            "WARNING:absl:Found untraced functions such as gru_cell_layer_call_fn, gru_cell_layer_call_and_return_conditional_losses while saving (showing 2 of 2). These functions will not be directly callable after loading.\n"
          ]
        }
      ]
    },
    {
      "cell_type": "code",
      "source": [
        "states = None\n",
        "next_char = tf.constant(['ROMEO:'])\n",
        "result = [next_char]\n",
        "\n",
        "for n in range(100):\n",
        "  next_char, states = one_step_reloaded.generate_one_step(next_char, states=states)\n",
        "  result.append(next_char)\n",
        "\n",
        "print(tf.strings.join(result)[0].numpy().decode(\"utf-8\"))"
      ],
      "metadata": {
        "colab": {
          "base_uri": "https://localhost:8080/"
        },
        "id": "66DsE1mbj5In",
        "outputId": "fcadb5e8-bb15-4419-ab7a-70c2a754d1e8"
      },
      "execution_count": 50,
      "outputs": [
        {
          "output_type": "stream",
          "name": "stdout",
          "text": [
            "ROMEO:\n",
            "These lips must behold me again,\n",
            "When mightish taughs her ears to stalve him; for her well her sain\n"
          ]
        }
      ]
    },
    {
      "cell_type": "markdown",
      "source": [
        "### 高级：定制训练\n",
        "上面的训练程序很简单，但并没有给你太多的控制权。它使用教师强制来防止错误的预测反馈到模型中，因此模型永远不会学会从错误中恢复过来。\n",
        "\n",
        "现在您已经看到了如何手动运行模型，接下来您将实现训练循环。例如，如果您希望实现课程学习以帮助稳定模型的开环输出，那么这提供了一个起点。\n",
        "\n",
        "自定义训练循环中最重要的部分是训练阶跃函数。\n",
        "\n",
        "使用tf.GradientTape跟踪梯度。\n",
        "\n",
        "基本程序如下：\n",
        "* 执行模型并计算在tf.GradientTape下的损耗。\n",
        "* 计算更新并使用优化器将其应用于模型。"
      ],
      "metadata": {
        "id": "nJUUPr34kJyO"
      }
    },
    {
      "cell_type": "code",
      "source": [
        "class CustomTraining(MyModel):\n",
        "  @tf.function\n",
        "  def train_step(self, inputs):\n",
        "      inputs, labels = inputs\n",
        "      with tf.GradientTape() as tape:\n",
        "          predictions = self(inputs, training=True)\n",
        "          loss = self.loss(labels, predictions)\n",
        "      grads = tape.gradient(loss, model.trainable_variables)\n",
        "      self.optimizer.apply_gradients(zip(grads, model.trainable_variables))\n",
        "\n",
        "      return {'loss': loss}"
      ],
      "metadata": {
        "id": "_DrXk1xDkxBB"
      },
      "execution_count": 51,
      "outputs": []
    },
    {
      "cell_type": "code",
      "source": [
        "model.compile(optimizer = tf.keras.optimizers.Adam(),\n",
        "       loss=tf.keras.losses.SparseCategoricalCrossentropy(from_logits=True))"
      ],
      "metadata": {
        "id": "DkM44Ju_k5QK"
      },
      "execution_count": 53,
      "outputs": []
    },
    {
      "cell_type": "code",
      "source": [
        "model.fit(dataset, epochs=1)"
      ],
      "metadata": {
        "colab": {
          "base_uri": "https://localhost:8080/"
        },
        "id": "GmZlIKkRk8DU",
        "outputId": "f3360f20-a580-4184-ae2d-a5fa45dd4534"
      },
      "execution_count": 54,
      "outputs": [
        {
          "output_type": "stream",
          "name": "stdout",
          "text": [
            "172/172 [==============================] - 14s 59ms/step - loss: 0.6559\n"
          ]
        },
        {
          "output_type": "execute_result",
          "data": {
            "text/plain": [
              "<keras.callbacks.History at 0x7fa9daf4d930>"
            ]
          },
          "metadata": {},
          "execution_count": 54
        }
      ]
    },
    {
      "cell_type": "code",
      "source": [
        "EPOCHS = 10\n",
        "\n",
        "mean = tf.metrics.Mean()\n",
        "\n",
        "for epoch in range(EPOCHS):\n",
        "    start = time.time()\n",
        "\n",
        "    mean.reset_states()\n",
        "    for (batch_n, (inp, target)) in enumerate(dataset):\n",
        "        logs = model.train_step([inp, target])\n",
        "        mean.update_state(logs['loss'])\n",
        "\n",
        "        if batch_n % 50 == 0:\n",
        "            template = f\"Epoch {epoch+1} Batch {batch_n} Loss {logs['loss']:.4f}\"\n",
        "            print(template)\n",
        "\n",
        "    # saving (checkpoint) the model every 5 epochs\n",
        "    if (epoch + 1) % 5 == 0:\n",
        "        model.save_weights(checkpoint_prefix.format(epoch=epoch))\n",
        "\n",
        "    print()\n",
        "    print(f'Epoch {epoch+1} Loss: {mean.result().numpy():.4f}')\n",
        "    print(f'Time taken for 1 epoch {time.time() - start:.2f} sec')\n",
        "    print(\"_\"*80)\n",
        "\n",
        "model.save_weights(checkpoint_prefix.format(epoch=epoch))"
      ],
      "metadata": {
        "colab": {
          "base_uri": "https://localhost:8080/"
        },
        "id": "3BvSwuj2lL9k",
        "outputId": "c1a502fe-98cf-40ae-8e44-b3457ca20fd9"
      },
      "execution_count": 55,
      "outputs": [
        {
          "output_type": "stream",
          "name": "stderr",
          "text": [
            "WARNING:tensorflow:5 out of the last 5 calls to <function _BaseOptimizer._update_step_xla at 0x7fa9dac65cf0> triggered tf.function retracing. Tracing is expensive and the excessive number of tracings could be due to (1) creating @tf.function repeatedly in a loop, (2) passing tensors with different shapes, (3) passing Python objects instead of tensors. For (1), please define your @tf.function outside of the loop. For (2), @tf.function has reduce_retracing=True option that can avoid unnecessary retracing. For (3), please refer to https://www.tensorflow.org/guide/function#controlling_retracing and https://www.tensorflow.org/api_docs/python/tf/function for  more details.\n",
            "WARNING:tensorflow:6 out of the last 6 calls to <function _BaseOptimizer._update_step_xla at 0x7fa9dac65cf0> triggered tf.function retracing. Tracing is expensive and the excessive number of tracings could be due to (1) creating @tf.function repeatedly in a loop, (2) passing tensors with different shapes, (3) passing Python objects instead of tensors. For (1), please define your @tf.function outside of the loop. For (2), @tf.function has reduce_retracing=True option that can avoid unnecessary retracing. For (3), please refer to https://www.tensorflow.org/guide/function#controlling_retracing and https://www.tensorflow.org/api_docs/python/tf/function for  more details.\n"
          ]
        },
        {
          "output_type": "stream",
          "name": "stdout",
          "text": [
            "Epoch 1 Batch 0 Loss 0.6552\n",
            "Epoch 1 Batch 50 Loss 0.6324\n",
            "Epoch 1 Batch 100 Loss 0.6237\n",
            "Epoch 1 Batch 150 Loss 0.6226\n",
            "\n",
            "Epoch 1 Loss: 0.6299\n",
            "Time taken for 1 epoch 15.64 sec\n",
            "________________________________________________________________________________\n",
            "Epoch 2 Batch 0 Loss 0.6232\n",
            "Epoch 2 Batch 50 Loss 0.6093\n",
            "Epoch 2 Batch 100 Loss 0.6023\n",
            "Epoch 2 Batch 150 Loss 0.6003\n",
            "\n",
            "Epoch 2 Loss: 0.6065\n",
            "Time taken for 1 epoch 12.80 sec\n",
            "________________________________________________________________________________\n",
            "Epoch 3 Batch 0 Loss 0.6002\n",
            "Epoch 3 Batch 50 Loss 0.5901\n",
            "Epoch 3 Batch 100 Loss 0.5839\n",
            "Epoch 3 Batch 150 Loss 0.5815\n",
            "\n",
            "Epoch 3 Loss: 0.5872\n",
            "Time taken for 1 epoch 13.45 sec\n",
            "________________________________________________________________________________\n",
            "Epoch 4 Batch 0 Loss 0.5813\n",
            "Epoch 4 Batch 50 Loss 0.5736\n",
            "Epoch 4 Batch 100 Loss 0.5682\n",
            "Epoch 4 Batch 150 Loss 0.5660\n",
            "\n",
            "Epoch 4 Loss: 0.5709\n",
            "Time taken for 1 epoch 20.47 sec\n",
            "________________________________________________________________________________\n",
            "Epoch 5 Batch 0 Loss 0.5654\n",
            "Epoch 5 Batch 50 Loss 0.5587\n",
            "Epoch 5 Batch 100 Loss 0.5543\n",
            "Epoch 5 Batch 150 Loss 0.5520\n",
            "\n",
            "Epoch 5 Loss: 0.5564\n",
            "Time taken for 1 epoch 13.61 sec\n",
            "________________________________________________________________________________\n",
            "Epoch 6 Batch 0 Loss 0.5516\n",
            "Epoch 6 Batch 50 Loss 0.5459\n",
            "Epoch 6 Batch 100 Loss 0.5420\n",
            "Epoch 6 Batch 150 Loss 0.5400\n",
            "\n",
            "Epoch 6 Loss: 0.5439\n",
            "Time taken for 1 epoch 13.04 sec\n",
            "________________________________________________________________________________\n",
            "Epoch 7 Batch 0 Loss 0.5396\n",
            "Epoch 7 Batch 50 Loss 0.5348\n",
            "Epoch 7 Batch 100 Loss 0.5315\n",
            "Epoch 7 Batch 150 Loss 0.5297\n",
            "\n",
            "Epoch 7 Loss: 0.5330\n",
            "Time taken for 1 epoch 13.03 sec\n",
            "________________________________________________________________________________\n",
            "Epoch 8 Batch 0 Loss 0.5293\n",
            "Epoch 8 Batch 50 Loss 0.5250\n",
            "Epoch 8 Batch 100 Loss 0.5219\n",
            "Epoch 8 Batch 150 Loss 0.5203\n",
            "\n",
            "Epoch 8 Loss: 0.5233\n",
            "Time taken for 1 epoch 13.18 sec\n",
            "________________________________________________________________________________\n",
            "Epoch 9 Batch 0 Loss 0.5199\n",
            "Epoch 9 Batch 50 Loss 0.5161\n",
            "Epoch 9 Batch 100 Loss 0.5134\n",
            "Epoch 9 Batch 150 Loss 0.5119\n",
            "\n",
            "Epoch 9 Loss: 0.5146\n",
            "Time taken for 1 epoch 13.22 sec\n",
            "________________________________________________________________________________\n",
            "Epoch 10 Batch 0 Loss 0.5116\n",
            "Epoch 10 Batch 50 Loss 0.5084\n",
            "Epoch 10 Batch 100 Loss 0.5060\n",
            "Epoch 10 Batch 150 Loss 0.5047\n",
            "\n",
            "Epoch 10 Loss: 0.5071\n",
            "Time taken for 1 epoch 16.24 sec\n",
            "________________________________________________________________________________\n"
          ]
        }
      ]
    },
    {
      "cell_type": "markdown",
      "source": [
        "参考： https://www.tensorflow.org/text/tutorials/text_generation"
      ],
      "metadata": {
        "id": "PPmiP1ngosKC"
      }
    }
  ],
  "metadata": {
    "kernelspec": {
      "display_name": "tensorflow",
      "language": "python",
      "name": "python3"
    },
    "language_info": {
      "codemirror_mode": {
        "name": "ipython",
        "version": 3
      },
      "file_extension": ".py",
      "mimetype": "text/x-python",
      "name": "python",
      "nbconvert_exporter": "python",
      "pygments_lexer": "ipython3",
      "version": "3.8.16"
    },
    "orig_nbformat": 4,
    "colab": {
      "provenance": [],
      "gpuType": "T4",
      "include_colab_link": true
    },
    "accelerator": "GPU",
    "gpuClass": "standard"
  },
  "nbformat": 4,
  "nbformat_minor": 0
}